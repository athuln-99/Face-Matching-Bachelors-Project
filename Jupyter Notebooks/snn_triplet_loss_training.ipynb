{
 "cells": [
  {
   "cell_type": "markdown",
   "id": "d42c91da",
   "metadata": {
    "id": "d42c91da"
   },
   "source": [
    "# 1. Setup"
   ]
  },
  {
   "cell_type": "markdown",
   "id": "e40ad990",
   "metadata": {
    "id": "e40ad990"
   },
   "source": [
    "## 1.1 Install Dependencies"
   ]
  },
  {
   "cell_type": "code",
   "execution_count": null,
   "id": "60acf98d",
   "metadata": {
    "colab": {
     "base_uri": "https://localhost:8080/",
     "height": 1000
    },
    "id": "60acf98d",
    "outputId": "f8430aa7-a21d-4d86-bce8-caca811321c5",
    "scrolled": true
   },
   "outputs": [],
   "source": [
    "!pip install tensorflow==2.5 tensorflow-gpu==2.5 opencv-python matplotlib"
   ]
  },
  {
   "cell_type": "code",
   "execution_count": 79,
   "id": "005972d4",
   "metadata": {},
   "outputs": [
    {
     "name": "stdout",
     "output_type": "stream",
     "text": [
      "Requirement already satisfied: tensorflow in ./jupyterenv/lib/python3.6/site-packages (2.6.2)\n",
      "Requirement already satisfied: absl-py~=0.10 in ./jupyterenv/lib/python3.6/site-packages (from tensorflow) (0.15.0)\n",
      "Requirement already satisfied: six~=1.15.0 in ./jupyterenv/lib/python3.6/site-packages (from tensorflow) (1.15.0)\n",
      "Requirement already satisfied: opt-einsum~=3.3.0 in ./jupyterenv/lib/python3.6/site-packages (from tensorflow) (3.3.0)\n",
      "Requirement already satisfied: gast==0.4.0 in ./jupyterenv/lib/python3.6/site-packages (from tensorflow) (0.4.0)\n",
      "Requirement already satisfied: h5py~=3.1.0 in ./jupyterenv/lib/python3.6/site-packages (from tensorflow) (3.1.0)\n",
      "Requirement already satisfied: tensorboard<2.7,>=2.6.0 in ./jupyterenv/lib/python3.6/site-packages (from tensorflow) (2.6.0)\n",
      "Requirement already satisfied: keras<2.7,>=2.6.0 in ./jupyterenv/lib/python3.6/site-packages (from tensorflow) (2.6.0)\n",
      "Requirement already satisfied: astunparse~=1.6.3 in ./jupyterenv/lib/python3.6/site-packages (from tensorflow) (1.6.3)\n",
      "Requirement already satisfied: protobuf>=3.9.2 in ./jupyterenv/lib/python3.6/site-packages (from tensorflow) (3.19.4)\n",
      "Requirement already satisfied: grpcio<2.0,>=1.37.0 in ./jupyterenv/lib/python3.6/site-packages (from tensorflow) (1.46.3)\n",
      "Requirement already satisfied: clang~=5.0 in ./jupyterenv/lib/python3.6/site-packages (from tensorflow) (5.0)\n",
      "Requirement already satisfied: flatbuffers~=1.12.0 in ./jupyterenv/lib/python3.6/site-packages (from tensorflow) (1.12)\n",
      "Requirement already satisfied: wrapt~=1.12.1 in ./jupyterenv/lib/python3.6/site-packages (from tensorflow) (1.12.1)\n",
      "Requirement already satisfied: tensorflow-estimator<2.7,>=2.6.0 in ./jupyterenv/lib/python3.6/site-packages (from tensorflow) (2.6.0)\n",
      "Requirement already satisfied: typing-extensions~=3.7.4 in ./jupyterenv/lib/python3.6/site-packages (from tensorflow) (3.7.4.3)\n",
      "Requirement already satisfied: termcolor~=1.1.0 in ./jupyterenv/lib/python3.6/site-packages (from tensorflow) (1.1.0)\n",
      "Requirement already satisfied: numpy~=1.19.2 in ./jupyterenv/lib/python3.6/site-packages (from tensorflow) (1.19.5)\n",
      "Requirement already satisfied: keras-preprocessing~=1.1.2 in ./jupyterenv/lib/python3.6/site-packages (from tensorflow) (1.1.2)\n",
      "Requirement already satisfied: google-pasta~=0.2 in ./jupyterenv/lib/python3.6/site-packages (from tensorflow) (0.2.0)\n",
      "Requirement already satisfied: wheel~=0.35 in ./jupyterenv/lib/python3.6/site-packages (from tensorflow) (0.37.1)\n",
      "Requirement already satisfied: cached-property in ./jupyterenv/lib/python3.6/site-packages (from h5py~=3.1.0->tensorflow) (1.5.2)\n",
      "Requirement already satisfied: requests<3,>=2.21.0 in ./jupyterenv/lib/python3.6/site-packages (from tensorboard<2.7,>=2.6.0->tensorflow) (2.27.1)\n",
      "Requirement already satisfied: markdown>=2.6.8 in ./jupyterenv/lib/python3.6/site-packages (from tensorboard<2.7,>=2.6.0->tensorflow) (3.3.6)\n",
      "Requirement already satisfied: google-auth<2,>=1.6.3 in ./jupyterenv/lib/python3.6/site-packages (from tensorboard<2.7,>=2.6.0->tensorflow) (1.35.0)\n",
      "Requirement already satisfied: google-auth-oauthlib<0.5,>=0.4.1 in ./jupyterenv/lib/python3.6/site-packages (from tensorboard<2.7,>=2.6.0->tensorflow) (0.4.6)\n",
      "Requirement already satisfied: setuptools>=41.0.0 in ./jupyterenv/lib/python3.6/site-packages (from tensorboard<2.7,>=2.6.0->tensorflow) (59.6.0)\n",
      "Requirement already satisfied: tensorboard-data-server<0.7.0,>=0.6.0 in ./jupyterenv/lib/python3.6/site-packages (from tensorboard<2.7,>=2.6.0->tensorflow) (0.6.1)\n",
      "Requirement already satisfied: werkzeug>=0.11.15 in ./jupyterenv/lib/python3.6/site-packages (from tensorboard<2.7,>=2.6.0->tensorflow) (2.0.3)\n",
      "Requirement already satisfied: tensorboard-plugin-wit>=1.6.0 in ./jupyterenv/lib/python3.6/site-packages (from tensorboard<2.7,>=2.6.0->tensorflow) (1.8.1)\n",
      "Requirement already satisfied: rsa<5,>=3.1.4 in ./jupyterenv/lib/python3.6/site-packages (from google-auth<2,>=1.6.3->tensorboard<2.7,>=2.6.0->tensorflow) (4.8)\n",
      "Requirement already satisfied: pyasn1-modules>=0.2.1 in ./jupyterenv/lib/python3.6/site-packages (from google-auth<2,>=1.6.3->tensorboard<2.7,>=2.6.0->tensorflow) (0.2.8)\n",
      "Requirement already satisfied: cachetools<5.0,>=2.0.0 in ./jupyterenv/lib/python3.6/site-packages (from google-auth<2,>=1.6.3->tensorboard<2.7,>=2.6.0->tensorflow) (4.2.4)\n",
      "Requirement already satisfied: requests-oauthlib>=0.7.0 in ./jupyterenv/lib/python3.6/site-packages (from google-auth-oauthlib<0.5,>=0.4.1->tensorboard<2.7,>=2.6.0->tensorflow) (1.3.1)\n",
      "Requirement already satisfied: importlib-metadata>=4.4 in ./jupyterenv/lib/python3.6/site-packages (from markdown>=2.6.8->tensorboard<2.7,>=2.6.0->tensorflow) (4.8.3)\n",
      "Requirement already satisfied: certifi>=2017.4.17 in ./jupyterenv/lib/python3.6/site-packages (from requests<3,>=2.21.0->tensorboard<2.7,>=2.6.0->tensorflow) (2021.10.8)\n",
      "Requirement already satisfied: charset-normalizer~=2.0.0 in ./jupyterenv/lib/python3.6/site-packages (from requests<3,>=2.21.0->tensorboard<2.7,>=2.6.0->tensorflow) (2.0.12)\n",
      "Requirement already satisfied: urllib3<1.27,>=1.21.1 in ./jupyterenv/lib/python3.6/site-packages (from requests<3,>=2.21.0->tensorboard<2.7,>=2.6.0->tensorflow) (1.26.9)\n",
      "Requirement already satisfied: idna<4,>=2.5 in ./jupyterenv/lib/python3.6/site-packages (from requests<3,>=2.21.0->tensorboard<2.7,>=2.6.0->tensorflow) (3.3)\n",
      "Requirement already satisfied: dataclasses in ./jupyterenv/lib/python3.6/site-packages (from werkzeug>=0.11.15->tensorboard<2.7,>=2.6.0->tensorflow) (0.8)\n",
      "Requirement already satisfied: zipp>=0.5 in ./jupyterenv/lib/python3.6/site-packages (from importlib-metadata>=4.4->markdown>=2.6.8->tensorboard<2.7,>=2.6.0->tensorflow) (3.6.0)\n",
      "Requirement already satisfied: pyasn1<0.5.0,>=0.4.6 in ./jupyterenv/lib/python3.6/site-packages (from pyasn1-modules>=0.2.1->google-auth<2,>=1.6.3->tensorboard<2.7,>=2.6.0->tensorflow) (0.4.8)\n",
      "Requirement already satisfied: oauthlib>=3.0.0 in ./jupyterenv/lib/python3.6/site-packages (from requests-oauthlib>=0.7.0->google-auth-oauthlib<0.5,>=0.4.1->tensorboard<2.7,>=2.6.0->tensorflow) (3.2.0)\n"
     ]
    }
   ],
   "source": [
    "!pip install --upgrade tensorflow"
   ]
  },
  {
   "cell_type": "code",
   "execution_count": null,
   "id": "760e7286",
   "metadata": {
    "colab": {
     "base_uri": "https://localhost:8080/"
    },
    "id": "760e7286",
    "outputId": "32e11469-92a9-4b0a-ddb1-6fe078e7dfde",
    "scrolled": true
   },
   "outputs": [],
   "source": [
    "!pip3 install matplotlib\n",
    "!pip3 install keras\n",
    "!pip3 install mtcnn"
   ]
  },
  {
   "cell_type": "code",
   "execution_count": null,
   "id": "05eb0121",
   "metadata": {
    "colab": {
     "base_uri": "https://localhost:8080/"
    },
    "id": "05eb0121",
    "outputId": "1a24a84e-f902-4d85-d8d6-98386c37d130",
    "scrolled": false
   },
   "outputs": [],
   "source": [
    "!pip install keras==2.6"
   ]
  },
  {
   "cell_type": "markdown",
   "id": "4f700b1a",
   "metadata": {
    "id": "4f700b1a"
   },
   "source": [
    "## 1.2 Import Dependencies"
   ]
  },
  {
   "cell_type": "code",
   "execution_count": 1,
   "id": "3954993d",
   "metadata": {
    "id": "3954993d"
   },
   "outputs": [],
   "source": [
    "# Import standard dependencies\n",
    "import cv2\n",
    "import os\n",
    "import random\n",
    "import numpy as np\n",
    "from matplotlib import pyplot as plt"
   ]
  },
  {
   "cell_type": "code",
   "execution_count": 2,
   "id": "12d16ec1",
   "metadata": {
    "id": "12d16ec1"
   },
   "outputs": [],
   "source": [
    "# Import Dependencies for face detection and MTCNN Model\n",
    "from mtcnn.mtcnn import MTCNN\n",
    "from numpy import asarray\n",
    "from PIL import Image"
   ]
  },
  {
   "cell_type": "code",
   "execution_count": 3,
   "id": "0fb77b0a",
   "metadata": {
    "colab": {
     "base_uri": "https://localhost:8080/"
    },
    "id": "0fb77b0a",
    "outputId": "4102e8b4-00cc-4f4c-e18a-3df1ab07622e"
   },
   "outputs": [],
   "source": [
    "#Import Preprocessing packages\n",
    "from tensorflow.keras.applications.vgg16 import preprocess_input\n",
    "from tensorflow.keras.preprocessing.image import load_img\n",
    "from tensorflow.keras.preprocessing.image import img_to_array"
   ]
  },
  {
   "cell_type": "code",
   "execution_count": 4,
   "id": "56b13c69",
   "metadata": {
    "id": "56b13c69"
   },
   "outputs": [],
   "source": [
    "# VGG16 model\n",
    "from tensorflow.keras.applications.vgg16 import VGG16"
   ]
  },
  {
   "cell_type": "code",
   "execution_count": 5,
   "id": "9a0b9f47",
   "metadata": {},
   "outputs": [],
   "source": [
    "#Logger for training\n",
    "from tensorflow.keras.callbacks import CSVLogger"
   ]
  },
  {
   "cell_type": "code",
   "execution_count": 6,
   "id": "a23c83c4",
   "metadata": {
    "id": "a23c83c4"
   },
   "outputs": [],
   "source": [
    "# Import tensorflow dependencies - Functional API\n",
    "from tensorflow import keras\n",
    "from tensorflow.keras.models import Model\n",
    "from tensorflow.keras.layers import Layer, Conv2D, Dense, MaxPooling2D, Input, Flatten, ZeroPadding2D, Convolution2D, Dropout, Activation\n",
    "import tensorflow as tf"
   ]
  },
  {
   "cell_type": "code",
   "execution_count": 7,
   "id": "1802e0e0",
   "metadata": {},
   "outputs": [],
   "source": [
    "SEED = 21"
   ]
  },
  {
   "cell_type": "code",
   "execution_count": 8,
   "id": "1b21dbb4",
   "metadata": {},
   "outputs": [],
   "source": [
    "#Shape of the input images\n",
    "target_shape = (224, 224)"
   ]
  },
  {
   "cell_type": "markdown",
   "id": "0b5abe0d",
   "metadata": {
    "id": "0b5abe0d"
   },
   "source": [
    "## 1.3 Set GPU Growth"
   ]
  },
  {
   "cell_type": "code",
   "execution_count": 9,
   "id": "cf926b87",
   "metadata": {
    "id": "cf926b87"
   },
   "outputs": [],
   "source": [
    "# Avoid OOM errors by setting GPU Memory Consumption Growth\n",
    "gpus = tf.config.experimental.list_physical_devices('GPU')\n",
    "for gpu in gpus: \n",
    "    tf.config.experimental.set_memory_growth(gpu, True)"
   ]
  },
  {
   "cell_type": "code",
   "execution_count": 10,
   "id": "8287acd2",
   "metadata": {},
   "outputs": [
    {
     "ename": "IndexError",
     "evalue": "list index out of range",
     "output_type": "error",
     "traceback": [
      "\u001b[0;31m---------------------------------------------------------------------------\u001b[0m",
      "\u001b[0;31mIndexError\u001b[0m                                Traceback (most recent call last)",
      "\u001b[0;32m<ipython-input-10-72d594a7d345>\u001b[0m in \u001b[0;36m<module>\u001b[0;34m\u001b[0m\n\u001b[1;32m      1\u001b[0m \u001b[0mgpus\u001b[0m \u001b[0;34m=\u001b[0m \u001b[0mtf\u001b[0m\u001b[0;34m.\u001b[0m\u001b[0mconfig\u001b[0m\u001b[0;34m.\u001b[0m\u001b[0mexperimental\u001b[0m\u001b[0;34m.\u001b[0m\u001b[0mlist_physical_devices\u001b[0m\u001b[0;34m(\u001b[0m\u001b[0;34m'GPU'\u001b[0m\u001b[0;34m)\u001b[0m\u001b[0;34m\u001b[0m\u001b[0;34m\u001b[0m\u001b[0m\n\u001b[0;32m----> 2\u001b[0;31m \u001b[0mtf\u001b[0m\u001b[0;34m.\u001b[0m\u001b[0mconfig\u001b[0m\u001b[0;34m.\u001b[0m\u001b[0mexperimental\u001b[0m\u001b[0;34m.\u001b[0m\u001b[0mset_memory_growth\u001b[0m\u001b[0;34m(\u001b[0m\u001b[0mgpus\u001b[0m\u001b[0;34m[\u001b[0m\u001b[0;36m0\u001b[0m\u001b[0;34m]\u001b[0m\u001b[0;34m,\u001b[0m \u001b[0;32mTrue\u001b[0m\u001b[0;34m)\u001b[0m\u001b[0;34m\u001b[0m\u001b[0;34m\u001b[0m\u001b[0m\n\u001b[0m",
      "\u001b[0;31mIndexError\u001b[0m: list index out of range"
     ]
    }
   ],
   "source": [
    "gpus = tf.config.experimental.list_physical_devices('GPU')\n",
    "tf.config.experimental.set_memory_growth(gpus[0], True)"
   ]
  },
  {
   "cell_type": "code",
   "execution_count": 11,
   "id": "fWCHYrCfpuTA",
   "metadata": {
    "colab": {
     "base_uri": "https://localhost:8080/"
    },
    "id": "fWCHYrCfpuTA",
    "outputId": "460fcb74-7705-4aa9-c383-32dcbd1d3db6"
   },
   "outputs": [
    {
     "data": {
      "text/plain": [
       "[]"
      ]
     },
     "execution_count": 11,
     "metadata": {},
     "output_type": "execute_result"
    }
   ],
   "source": [
    "gpus"
   ]
  },
  {
   "cell_type": "code",
   "execution_count": 12,
   "id": "cd525c8c",
   "metadata": {
    "scrolled": true
   },
   "outputs": [
    {
     "data": {
      "text/plain": [
       "[]"
      ]
     },
     "execution_count": 12,
     "metadata": {},
     "output_type": "execute_result"
    }
   ],
   "source": [
    "tf.config.list_physical_devices('GPU')"
   ]
  },
  {
   "cell_type": "markdown",
   "id": "23ebe13b",
   "metadata": {
    "id": "23ebe13b"
   },
   "source": [
    "# 2. Collect Positives and Anchors"
   ]
  },
  {
   "cell_type": "markdown",
   "id": "f86f7a9e",
   "metadata": {
    "id": "f86f7a9e"
   },
   "source": [
    "## 2.1 Untar Labelled Faces in the Wild Dataset"
   ]
  },
  {
   "cell_type": "code",
   "execution_count": null,
   "id": "217244a3",
   "metadata": {
    "colab": {
     "base_uri": "https://localhost:8080/"
    },
    "id": "217244a3",
    "outputId": "a70434de-3111-4e96-d024-8f4ce0d04581"
   },
   "outputs": [],
   "source": [
    "# Uncompress Tar GZ Labelled Faces in the Wild Dataset\n",
    "!tar -xf lfw.tgz"
   ]
  },
  {
   "cell_type": "code",
   "execution_count": null,
   "id": "5322d0e7",
   "metadata": {
    "id": "5322d0e7"
   },
   "outputs": [],
   "source": [
    "# Move LFW Images to the following repository data/negative\n",
    "for directory in os.listdir('lfw'):\n",
    "    for file in os.listdir(os.path.join('lfw', directory)):\n",
    "        EX_PATH = os.path.join('lfw', directory, file)\n",
    "        NEW_PATH = os.path.join(NEG_PATH, file)\n",
    "        os.replace(EX_PATH, NEW_PATH)"
   ]
  },
  {
   "cell_type": "markdown",
   "id": "6b273792",
   "metadata": {
    "id": "6b273792"
   },
   "source": [
    "# 3. Load and Preprocess Images"
   ]
  },
  {
   "cell_type": "markdown",
   "id": "7e54766f",
   "metadata": {
    "id": "7e54766f"
   },
   "source": [
    "## 3.1 Preprocessing - Resizing, Alignment and Cropping"
   ]
  },
  {
   "cell_type": "code",
   "execution_count": 9,
   "id": "dddb37c1",
   "metadata": {
    "id": "ef952ecd"
   },
   "outputs": [],
   "source": [
    "# Preprocess images\n",
    "def preprocess(file_path, required_size=(224,224)):\n",
    "    raw = tf.io.read_file(file_path)\n",
    "    image = tf.image.decode_jpeg(raw, channels=3, dct_method='INTEGER_ACCURATE')\n",
    "    image = tf.image.resize(image,required_size, method='nearest')\n",
    "    image = tf.cast(image, 'float32')\n",
    "    return np.array(image)"
   ]
  },
  {
   "cell_type": "code",
   "execution_count": 10,
   "id": "2cfd73a2",
   "metadata": {},
   "outputs": [],
   "source": [
    "K = tf.keras.backend\n",
    "\n",
    "# VGG Face preprocessing\n",
    "def preprocess_input_vvgface(x, data_format=None, version=1):\n",
    "    x_temp = np.copy(x)\n",
    "    if data_format is None:\n",
    "        data_format = K.image_data_format()\n",
    "    assert data_format in {'channels_last', 'channels_first'}\n",
    "\n",
    "    if version == 1:\n",
    "        if data_format == 'channels_first':\n",
    "            x_temp = x_temp[:, ::-1, ...]\n",
    "            x_temp[:, 0, :, :] -= 93.5940\n",
    "            x_temp[:, 1, :, :] -= 104.7624\n",
    "            x_temp[:, 2, :, :] -= 129.1863\n",
    "        else:\n",
    "            x_temp = x_temp[..., ::-1]\n",
    "            x_temp[..., 0] -= 93.5940\n",
    "            x_temp[..., 1] -= 104.7624\n",
    "            x_temp[..., 2] -= 129.1863\n",
    "\n",
    "    elif version == 2:\n",
    "        if data_format == 'channels_first':\n",
    "            x_temp = x_temp[:, ::-1, ...]\n",
    "            x_temp[:, 0, :, :] -= 91.4953\n",
    "            x_temp[:, 1, :, :] -= 103.8827\n",
    "            x_temp[:, 2, :, :] -= 131.0912\n",
    "        else:\n",
    "            x_temp = x_temp[..., ::-1]\n",
    "            x_temp[..., 0] -= 91.4953\n",
    "            x_temp[..., 1] -= 103.8827\n",
    "            x_temp[..., 2] -= 131.0912\n",
    "    else:\n",
    "        raise NotImplementedError\n",
    "\n",
    "    return x_temp"
   ]
  },
  {
   "cell_type": "code",
   "execution_count": 11,
   "id": "bce41fb8",
   "metadata": {
    "id": "bce41fb8",
    "scrolled": false
   },
   "outputs": [],
   "source": [
    "def complete_preprocess(image_path, required_size=(224,224)): \n",
    "    # load image and detect the face\n",
    "    image = preprocess(image_path)\n",
    "    \n",
    "    #image = np.expand_dims(image, axis=0)\n",
    "    \n",
    "    #Preprocessing\n",
    "    face_array = preprocess_input(image)\n",
    "    \n",
    "    \n",
    "    # Scale image to be between 0 and 1 \n",
    "    face_array = (face_array - np.amin(face_array)) / (np.amax(face_array) - np.amin(face_array))\n",
    "    # Scale image to be between -1 and 1\n",
    "    face_array = 2*face_array - 1\n",
    "    \n",
    "    return tf.convert_to_tensor(face_array)"
   ]
  },
  {
   "cell_type": "markdown",
   "id": "907006fe",
   "metadata": {
    "id": "907006fe"
   },
   "source": [
    "# 3.2 Create Labelled Dataset"
   ]
  },
  {
   "cell_type": "code",
   "execution_count": 186,
   "id": "ea837152",
   "metadata": {
    "id": "ea837152"
   },
   "outputs": [],
   "source": [
    "#Peparing arrays of file paths of all the data\n",
    "anchor_array = []\n",
    "positive_array = []\n",
    "negative_array = []\n",
    "\n",
    "#Making sure all the names appended can be cropped\n",
    "for directory in os.listdir('cropped_test_data'):\n",
    "    anchor_name = os.path.join('cropped_test_data',directory,'anchor.jpg')\n",
    "    positive_name = os.path.join('cropped_test_data',directory,'positive.jpg')\n",
    "    negative_name = os.path.join('cropped_test_data',directory,'negative.jpg')\n",
    "    \n",
    "    \n",
    "    anchor_array.append(anchor_name)\n",
    "    positive_array.append(positive_name)\n",
    "    negative_array.append(negative_name)"
   ]
  },
  {
   "cell_type": "code",
   "execution_count": 187,
   "id": "61605f5a",
   "metadata": {
    "id": "61605f5a",
    "scrolled": true
   },
   "outputs": [],
   "source": [
    "data = tf.data.Dataset.zip((tf.data.Dataset.from_tensor_slices(anchor_array), \n",
    "                            tf.data.Dataset.from_tensor_slices(positive_array), \n",
    "                            tf.data.Dataset.from_tensor_slices(negative_array)))"
   ]
  },
  {
   "cell_type": "code",
   "execution_count": null,
   "id": "e343ca2e",
   "metadata": {},
   "outputs": [],
   "source": [
    "#Making sure all the names appended can be cropped\n",
    "label_idx = 0\n",
    "labels = []\n",
    "files = []\n",
    "for directory in os.listdir('lfw'):\n",
    "    for file in os.listdir(os.path.join('lfw',directory)):\n",
    "        file_name = os.path.join('lfw',directory,file)\n",
    "        files.append(file_name)\n",
    "        labels.append(label_idx)\n",
    "        print(file_name)\n",
    "        print(label_idx)\n",
    "    \n",
    "    label_idx = label_idx + 1    "
   ]
  },
  {
   "cell_type": "code",
   "execution_count": 205,
   "id": "0f9637b1",
   "metadata": {
    "id": "61605f5a",
    "scrolled": true
   },
   "outputs": [],
   "source": [
    "data = tf.data.Dataset.zip((tf.data.Dataset.from_tensor_slices(files), \n",
    "                            tf.data.Dataset.from_tensor_slices(labels)))"
   ]
  },
  {
   "cell_type": "markdown",
   "id": "488d55a3",
   "metadata": {
    "id": "488d55a3"
   },
   "source": [
    "# 3.4 Build Train and Test Partition"
   ]
  },
  {
   "cell_type": "code",
   "execution_count": 210,
   "id": "c8602978",
   "metadata": {
    "id": "c8602978"
   },
   "outputs": [],
   "source": [
    "def preprocess_dataset(anchor_img, positive_img, negative_img):\n",
    "    return(complete_preprocess(anchor_img), complete_preprocess(positive_img), complete_preprocess(negative_img))"
   ]
  },
  {
   "cell_type": "code",
   "execution_count": 211,
   "id": "b7ba47e8",
   "metadata": {
    "id": "c8602978"
   },
   "outputs": [],
   "source": [
    "def preprocess_twin(anchor_img, label):\n",
    "    return(complete_preprocess(anchor_img), label)"
   ]
  },
  {
   "cell_type": "code",
   "execution_count": 212,
   "id": "01dc1a5c",
   "metadata": {
    "scrolled": true
   },
   "outputs": [],
   "source": [
    "# * is to unpack the values inside current_sample\n",
    "res = preprocess_twin(*current_sample)"
   ]
  },
  {
   "cell_type": "code",
   "execution_count": 167,
   "id": "ba4a1b7c",
   "metadata": {
    "id": "ba4a1b7c",
    "scrolled": true
   },
   "outputs": [],
   "source": [
    "# Build dataloader pipeline\n",
    "data = data.map(lambda x, y: tf.py_function(preprocess_twin, inp = (x, y), Tout=(tf.float32, tf.int32)))\n",
    "#data = data.map(preprocess_twin)\n",
    "#data = data.cache()\n",
    "#data = data.shuffle(buffer_size=1024, seed = SEED)"
   ]
  },
  {
   "cell_type": "code",
   "execution_count": 190,
   "id": "33ec504f",
   "metadata": {},
   "outputs": [],
   "source": [
    "# Build dataloader pipeline for the preprocess_dataset function\n",
    "#data = data.map(preprocess_twin)\n",
    "data = data.map(lambda x, y , z: tf.py_function(preprocess_dataset, inp = (x, y, z), Tout=(tf.float32, tf.float32, tf.float32)))\n",
    "data = data.cache()\n",
    "data = data.shuffle(buffer_size=1024, seed = SEED)"
   ]
  },
  {
   "cell_type": "code",
   "execution_count": 191,
   "id": "8764693e",
   "metadata": {
    "id": "8764693e"
   },
   "outputs": [],
   "source": [
    "# Training partition\n",
    "train_data = data.take(round(len(data)*0.7)) #Getting 100% of images\n",
    "train_data = train_data.batch(120)\n",
    "train_data = train_data.prefetch(8)"
   ]
  },
  {
   "cell_type": "code",
   "execution_count": 192,
   "id": "4e98e2a0",
   "metadata": {
    "id": "4e98e2a0"
   },
   "outputs": [],
   "source": [
    "# Testing partition\n",
    "test_data = data.skip(round(len(data)*.7))\n",
    "test_data = test_data.take(round(len(data)*.3))\n",
    "test_data = test_data.batch(120)\n",
    "test_data = test_data.prefetch(8)"
   ]
  },
  {
   "cell_type": "markdown",
   "id": "ce802c6d",
   "metadata": {
    "id": "ce802c6d"
   },
   "source": [
    "# 4. Model Engineering"
   ]
  },
  {
   "cell_type": "markdown",
   "id": "bb2adb81",
   "metadata": {
    "id": "bb2adb81"
   },
   "source": [
    "## 4.1 Load VGG_Face model"
   ]
  },
  {
   "cell_type": "code",
   "execution_count": 33,
   "id": "4bc57c03",
   "metadata": {
    "id": "4bc57c03"
   },
   "outputs": [],
   "source": [
    "vgg_model = keras.Sequential()\n",
    "vgg_model.add(ZeroPadding2D((1,1),input_shape=(224,224, 3)))\n",
    "vgg_model.add(Convolution2D(64, (3, 3), activation='relu'))\n",
    "vgg_model.add(ZeroPadding2D((1,1)))\n",
    "vgg_model.add(Convolution2D(64, (3, 3), activation='relu'))\n",
    "vgg_model.add(MaxPooling2D((2,2), strides=(2,2)))\n",
    " \n",
    "vgg_model.add(ZeroPadding2D((1,1)))\n",
    "vgg_model.add(Convolution2D(128, (3, 3), activation='relu'))\n",
    "vgg_model.add(ZeroPadding2D((1,1)))\n",
    "vgg_model.add(Convolution2D(128, (3, 3), activation='relu'))\n",
    "vgg_model.add(MaxPooling2D((2,2), strides=(2,2)))\n",
    " \n",
    "vgg_model.add(ZeroPadding2D((1,1)))\n",
    "vgg_model.add(Convolution2D(256, (3, 3), activation='relu'))\n",
    "vgg_model.add(ZeroPadding2D((1,1)))\n",
    "vgg_model.add(Convolution2D(256, (3, 3), activation='relu'))\n",
    "vgg_model.add(ZeroPadding2D((1,1)))\n",
    "vgg_model.add(Convolution2D(256, (3, 3), activation='relu'))\n",
    "vgg_model.add(MaxPooling2D((2,2), strides=(2,2)))\n",
    " \n",
    "vgg_model.add(ZeroPadding2D((1,1)))\n",
    "vgg_model.add(Convolution2D(512, (3, 3), activation='relu'))\n",
    "vgg_model.add(ZeroPadding2D((1,1)))\n",
    "vgg_model.add(Convolution2D(512, (3, 3), activation='relu'))\n",
    "vgg_model.add(ZeroPadding2D((1,1)))\n",
    "vgg_model.add(Convolution2D(512, (3, 3), activation='relu'))\n",
    "vgg_model.add(MaxPooling2D((2,2), strides=(2,2)))\n",
    " \n",
    "vgg_model.add(ZeroPadding2D((1,1)))\n",
    "vgg_model.add(Convolution2D(512, (3, 3), activation='relu'))\n",
    "vgg_model.add(ZeroPadding2D((1,1)))\n",
    "vgg_model.add(Convolution2D(512, (3, 3), activation='relu'))\n",
    "vgg_model.add(ZeroPadding2D((1,1)))\n",
    "vgg_model.add(Convolution2D(512, (3, 3), activation='relu'))\n",
    "vgg_model.add(MaxPooling2D((2,2), strides=(2,2)))\n",
    " \n",
    "vgg_model.add(Convolution2D(4096, (7, 7), activation='relu'))\n",
    "vgg_model.add(Dropout(0.5))\n",
    "vgg_model.add(Convolution2D(4096, (1, 1), activation='relu'))\n",
    "vgg_model.add(Dropout(0.5))\n",
    "vgg_model.add(Convolution2D(2622, (1, 1)))\n",
    "vgg_model.add(Flatten())\n",
    "vgg_model.add(Activation('softmax'))"
   ]
  },
  {
   "cell_type": "code",
   "execution_count": 34,
   "id": "98fd43db",
   "metadata": {
    "id": "98fd43db"
   },
   "outputs": [],
   "source": [
    "from tensorflow.keras.models import model_from_json\n",
    "vgg_model.load_weights('vgg_face_weights.h5')"
   ]
  },
  {
   "cell_type": "code",
   "execution_count": 80,
   "id": "5671a750",
   "metadata": {},
   "outputs": [],
   "source": [
    "#To pop the bottom activation layer and adding another dense node\n",
    "#vgg_model.pop()\n",
    "#vgg_model.add(Dense(128))"
   ]
  },
  {
   "cell_type": "code",
   "execution_count": null,
   "id": "6de16178",
   "metadata": {
    "id": "6de16178",
    "scrolled": true
   },
   "outputs": [],
   "source": [
    "vgg_face_embedding = Model(inputs=vgg_model.layers[0].input, outputs=vgg_model.layers[-2].output)"
   ]
  },
  {
   "cell_type": "code",
   "execution_count": null,
   "id": "189429a6",
   "metadata": {
    "colab": {
     "base_uri": "https://localhost:8080/"
    },
    "id": "189429a6",
    "outputId": "7138bac9-9a8d-409e-cc2d-4513d795ad06",
    "scrolled": true
   },
   "outputs": [
    {
     "name": "stdout",
     "output_type": "stream",
     "text": [
      "Model: \"model\"\n",
      "_________________________________________________________________\n",
      "Layer (type)                 Output Shape              Param #   \n",
      "=================================================================\n",
      "zero_padding2d_input (InputL [(None, 224, 224, 3)]     0         \n",
      "_________________________________________________________________\n",
      "zero_padding2d (ZeroPadding2 (None, 226, 226, 3)       0         \n",
      "_________________________________________________________________\n",
      "conv2d (Conv2D)              (None, 224, 224, 64)      1792      \n",
      "_________________________________________________________________\n",
      "zero_padding2d_1 (ZeroPaddin (None, 226, 226, 64)      0         \n",
      "_________________________________________________________________\n",
      "conv2d_1 (Conv2D)            (None, 224, 224, 64)      36928     \n",
      "_________________________________________________________________\n",
      "max_pooling2d (MaxPooling2D) (None, 112, 112, 64)      0         \n",
      "_________________________________________________________________\n",
      "zero_padding2d_2 (ZeroPaddin (None, 114, 114, 64)      0         \n",
      "_________________________________________________________________\n",
      "conv2d_2 (Conv2D)            (None, 112, 112, 128)     73856     \n",
      "_________________________________________________________________\n",
      "zero_padding2d_3 (ZeroPaddin (None, 114, 114, 128)     0         \n",
      "_________________________________________________________________\n",
      "conv2d_3 (Conv2D)            (None, 112, 112, 128)     147584    \n",
      "_________________________________________________________________\n",
      "max_pooling2d_1 (MaxPooling2 (None, 56, 56, 128)       0         \n",
      "_________________________________________________________________\n",
      "zero_padding2d_4 (ZeroPaddin (None, 58, 58, 128)       0         \n",
      "_________________________________________________________________\n",
      "conv2d_4 (Conv2D)            (None, 56, 56, 256)       295168    \n",
      "_________________________________________________________________\n",
      "zero_padding2d_5 (ZeroPaddin (None, 58, 58, 256)       0         \n",
      "_________________________________________________________________\n",
      "conv2d_5 (Conv2D)            (None, 56, 56, 256)       590080    \n",
      "_________________________________________________________________\n",
      "zero_padding2d_6 (ZeroPaddin (None, 58, 58, 256)       0         \n",
      "_________________________________________________________________\n",
      "conv2d_6 (Conv2D)            (None, 56, 56, 256)       590080    \n",
      "_________________________________________________________________\n",
      "max_pooling2d_2 (MaxPooling2 (None, 28, 28, 256)       0         \n",
      "_________________________________________________________________\n",
      "zero_padding2d_7 (ZeroPaddin (None, 30, 30, 256)       0         \n",
      "_________________________________________________________________\n",
      "conv2d_7 (Conv2D)            (None, 28, 28, 512)       1180160   \n",
      "_________________________________________________________________\n",
      "zero_padding2d_8 (ZeroPaddin (None, 30, 30, 512)       0         \n",
      "_________________________________________________________________\n",
      "conv2d_8 (Conv2D)            (None, 28, 28, 512)       2359808   \n",
      "_________________________________________________________________\n",
      "zero_padding2d_9 (ZeroPaddin (None, 30, 30, 512)       0         \n",
      "_________________________________________________________________\n",
      "conv2d_9 (Conv2D)            (None, 28, 28, 512)       2359808   \n",
      "_________________________________________________________________\n",
      "max_pooling2d_3 (MaxPooling2 (None, 14, 14, 512)       0         \n",
      "_________________________________________________________________\n",
      "zero_padding2d_10 (ZeroPaddi (None, 16, 16, 512)       0         \n",
      "_________________________________________________________________\n",
      "conv2d_10 (Conv2D)           (None, 14, 14, 512)       2359808   \n",
      "_________________________________________________________________\n",
      "zero_padding2d_11 (ZeroPaddi (None, 16, 16, 512)       0         \n",
      "_________________________________________________________________\n",
      "conv2d_11 (Conv2D)           (None, 14, 14, 512)       2359808   \n",
      "_________________________________________________________________\n",
      "zero_padding2d_12 (ZeroPaddi (None, 16, 16, 512)       0         \n",
      "_________________________________________________________________\n",
      "conv2d_12 (Conv2D)           (None, 14, 14, 512)       2359808   \n",
      "_________________________________________________________________\n",
      "max_pooling2d_4 (MaxPooling2 (None, 7, 7, 512)         0         \n",
      "_________________________________________________________________\n",
      "conv2d_13 (Conv2D)           (None, 1, 1, 4096)        102764544 \n",
      "_________________________________________________________________\n",
      "dropout (Dropout)            (None, 1, 1, 4096)        0         \n",
      "_________________________________________________________________\n",
      "conv2d_14 (Conv2D)           (None, 1, 1, 4096)        16781312  \n",
      "_________________________________________________________________\n",
      "dropout_1 (Dropout)          (None, 1, 1, 4096)        0         \n",
      "_________________________________________________________________\n",
      "conv2d_15 (Conv2D)           (None, 1, 1, 2622)        10742334  \n",
      "_________________________________________________________________\n",
      "flatten (Flatten)            (None, 2622)              0         \n",
      "=================================================================\n",
      "Total params: 145,002,878\n",
      "Trainable params: 145,002,878\n",
      "Non-trainable params: 0\n",
      "_________________________________________________________________\n"
     ]
    }
   ],
   "source": [
    "vgg_face_embedding.summary()"
   ]
  },
  {
   "cell_type": "code",
   "execution_count": null,
   "id": "e11ec254",
   "metadata": {
    "colab": {
     "base_uri": "https://localhost:8080/"
    },
    "id": "e11ec254",
    "outputId": "071f126a-e468-4719-ecbc-476c42389c45",
    "scrolled": true
   },
   "outputs": [
    {
     "name": "stdout",
     "output_type": "stream",
     "text": [
      "0 zero_padding2d_52_input False\n",
      "1 zero_padding2d_52 False\n",
      "2 conv2d_64 False\n",
      "3 zero_padding2d_53 False\n",
      "4 conv2d_65 False\n",
      "5 max_pooling2d_20 False\n",
      "6 zero_padding2d_54 False\n",
      "7 conv2d_66 False\n",
      "8 zero_padding2d_55 False\n",
      "9 conv2d_67 False\n",
      "10 max_pooling2d_21 False\n",
      "11 zero_padding2d_56 False\n",
      "12 conv2d_68 False\n",
      "13 zero_padding2d_57 False\n",
      "14 conv2d_69 False\n",
      "15 zero_padding2d_58 False\n",
      "16 conv2d_70 False\n",
      "17 max_pooling2d_22 False\n",
      "18 zero_padding2d_59 False\n",
      "19 conv2d_71 False\n",
      "20 zero_padding2d_60 False\n",
      "21 conv2d_72 False\n",
      "22 zero_padding2d_61 False\n",
      "23 conv2d_73 False\n",
      "24 max_pooling2d_23 False\n",
      "25 zero_padding2d_62 False\n",
      "26 conv2d_74 False\n",
      "27 zero_padding2d_63 False\n",
      "28 conv2d_75 False\n",
      "29 zero_padding2d_64 False\n",
      "30 conv2d_76 False\n",
      "31 max_pooling2d_24 False\n",
      "32 flatten_5 True\n",
      "33 dense_3 True\n",
      "34 dropout_12 True\n",
      "35 dense_4 True\n",
      "36 dropout_13 True\n",
      "37 dense_5 True\n"
     ]
    }
   ],
   "source": [
    "# Freeze four convolution blocks\n",
    "for layer in vgg_face_embedding.layers[:32]:\n",
    "    layer.trainable = False\n",
    "# Make sure you have frozen the correct layers\n",
    "for i, layer in enumerate(vgg_face_embedding.layers):\n",
    "    print(i, layer.name, layer.trainable)"
   ]
  },
  {
   "cell_type": "code",
   "execution_count": null,
   "id": "889350c0",
   "metadata": {
    "colab": {
     "base_uri": "https://localhost:8080/"
    },
    "id": "889350c0",
    "outputId": "97108412-0134-4064-dd13-3926da6ef711",
    "scrolled": true
   },
   "outputs": [
    {
     "name": "stdout",
     "output_type": "stream",
     "text": [
      "Model: \"model_7\"\n",
      "_________________________________________________________________\n",
      "Layer (type)                 Output Shape              Param #   \n",
      "=================================================================\n",
      "zero_padding2d_52_input (Inp [(None, 224, 224, 3)]     0         \n",
      "_________________________________________________________________\n",
      "zero_padding2d_52 (ZeroPaddi (None, 226, 226, 3)       0         \n",
      "_________________________________________________________________\n",
      "conv2d_64 (Conv2D)           (None, 224, 224, 64)      1792      \n",
      "_________________________________________________________________\n",
      "zero_padding2d_53 (ZeroPaddi (None, 226, 226, 64)      0         \n",
      "_________________________________________________________________\n",
      "conv2d_65 (Conv2D)           (None, 224, 224, 64)      36928     \n",
      "_________________________________________________________________\n",
      "max_pooling2d_20 (MaxPooling (None, 112, 112, 64)      0         \n",
      "_________________________________________________________________\n",
      "zero_padding2d_54 (ZeroPaddi (None, 114, 114, 64)      0         \n",
      "_________________________________________________________________\n",
      "conv2d_66 (Conv2D)           (None, 112, 112, 128)     73856     \n",
      "_________________________________________________________________\n",
      "zero_padding2d_55 (ZeroPaddi (None, 114, 114, 128)     0         \n",
      "_________________________________________________________________\n",
      "conv2d_67 (Conv2D)           (None, 112, 112, 128)     147584    \n",
      "_________________________________________________________________\n",
      "max_pooling2d_21 (MaxPooling (None, 56, 56, 128)       0         \n",
      "_________________________________________________________________\n",
      "zero_padding2d_56 (ZeroPaddi (None, 58, 58, 128)       0         \n",
      "_________________________________________________________________\n",
      "conv2d_68 (Conv2D)           (None, 56, 56, 256)       295168    \n",
      "_________________________________________________________________\n",
      "zero_padding2d_57 (ZeroPaddi (None, 58, 58, 256)       0         \n",
      "_________________________________________________________________\n",
      "conv2d_69 (Conv2D)           (None, 56, 56, 256)       590080    \n",
      "_________________________________________________________________\n",
      "zero_padding2d_58 (ZeroPaddi (None, 58, 58, 256)       0         \n",
      "_________________________________________________________________\n",
      "conv2d_70 (Conv2D)           (None, 56, 56, 256)       590080    \n",
      "_________________________________________________________________\n",
      "max_pooling2d_22 (MaxPooling (None, 28, 28, 256)       0         \n",
      "_________________________________________________________________\n",
      "zero_padding2d_59 (ZeroPaddi (None, 30, 30, 256)       0         \n",
      "_________________________________________________________________\n",
      "conv2d_71 (Conv2D)           (None, 28, 28, 512)       1180160   \n",
      "_________________________________________________________________\n",
      "zero_padding2d_60 (ZeroPaddi (None, 30, 30, 512)       0         \n",
      "_________________________________________________________________\n",
      "conv2d_72 (Conv2D)           (None, 28, 28, 512)       2359808   \n",
      "_________________________________________________________________\n",
      "zero_padding2d_61 (ZeroPaddi (None, 30, 30, 512)       0         \n",
      "_________________________________________________________________\n",
      "conv2d_73 (Conv2D)           (None, 28, 28, 512)       2359808   \n",
      "_________________________________________________________________\n",
      "max_pooling2d_23 (MaxPooling (None, 14, 14, 512)       0         \n",
      "_________________________________________________________________\n",
      "zero_padding2d_62 (ZeroPaddi (None, 16, 16, 512)       0         \n",
      "_________________________________________________________________\n",
      "conv2d_74 (Conv2D)           (None, 14, 14, 512)       2359808   \n",
      "_________________________________________________________________\n",
      "zero_padding2d_63 (ZeroPaddi (None, 16, 16, 512)       0         \n",
      "_________________________________________________________________\n",
      "conv2d_75 (Conv2D)           (None, 14, 14, 512)       2359808   \n",
      "_________________________________________________________________\n",
      "zero_padding2d_64 (ZeroPaddi (None, 16, 16, 512)       0         \n",
      "_________________________________________________________________\n",
      "conv2d_76 (Conv2D)           (None, 14, 14, 512)       2359808   \n",
      "_________________________________________________________________\n",
      "max_pooling2d_24 (MaxPooling (None, 7, 7, 512)         0         \n",
      "_________________________________________________________________\n",
      "flatten_5 (Flatten)          (None, 25088)             0         \n",
      "_________________________________________________________________\n",
      "dense_3 (Dense)              (None, 4096)              102764544 \n",
      "_________________________________________________________________\n",
      "dropout_12 (Dropout)         (None, 4096)              0         \n",
      "_________________________________________________________________\n",
      "dense_4 (Dense)              (None, 4096)              16781312  \n",
      "_________________________________________________________________\n",
      "dropout_13 (Dropout)         (None, 4096)              0         \n",
      "_________________________________________________________________\n",
      "dense_5 (Dense)              (None, 2622)              10742334  \n",
      "=================================================================\n",
      "Total params: 145,002,878\n",
      "Trainable params: 130,288,190\n",
      "Non-trainable params: 14,714,688\n",
      "_________________________________________________________________\n"
     ]
    }
   ],
   "source": [
    "vgg_face_embedding.summary()"
   ]
  },
  {
   "cell_type": "markdown",
   "id": "57f7e148",
   "metadata": {
    "id": "57f7e148"
   },
   "source": [
    "# 5. Training"
   ]
  },
  {
   "cell_type": "markdown",
   "id": "0065256d",
   "metadata": {
    "id": "0065256d"
   },
   "source": [
    "## 5.1 Setup Loss and Optimizer"
   ]
  },
  {
   "cell_type": "code",
   "execution_count": null,
   "id": "1e62557b",
   "metadata": {},
   "outputs": [],
   "source": [
    "opt = tf.keras.optimizers.SGD(0.01) # 0.001"
   ]
  },
  {
   "cell_type": "code",
   "execution_count": null,
   "id": "b6982784",
   "metadata": {
    "id": "b6982784"
   },
   "outputs": [],
   "source": [
    "opt = tf.keras.optimizers.Adam(0.01) # 0.001"
   ]
  },
  {
   "cell_type": "code",
   "execution_count": null,
   "id": "f9fe6f77",
   "metadata": {
    "id": "f9fe6f77"
   },
   "outputs": [],
   "source": [
    "#Loss function\n",
    "def triplet_loss(anchor,positive,negative, alpha=0.3):\n",
    "    positive_dist = tf.reduce_mean(tf.square(anchor - positive), axis=-1)\n",
    "    negative_dist = tf.reduce_mean(tf.square(anchor - negative), axis=-1)\n",
    "    return tf.maximum(positive_dist - negative_dist + alpha, 0.0)"
   ]
  },
  {
   "cell_type": "code",
   "execution_count": null,
   "id": "c852779b",
   "metadata": {},
   "outputs": [],
   "source": [
    "class DistanceLayer(Layer):\n",
    "    \"\"\"\n",
    "    This layer is responsible for computing the distance between the anchor\n",
    "    embedding and the positive embedding, and the anchor embedding and the\n",
    "    negative embedding.\n",
    "    \"\"\"\n",
    "\n",
    "    def __init__(self, **kwargs):\n",
    "        super().__init__(**kwargs)\n",
    "\n",
    "    def call(self, anchor, positive, negative):\n",
    "        ap_distance = tf.reduce_sum(tf.square(anchor - positive), -1)\n",
    "        an_distance = tf.reduce_sum(tf.square(anchor - negative), -1)\n",
    "        return (ap_distance, an_distance)\n"
   ]
  },
  {
   "cell_type": "code",
   "execution_count": null,
   "id": "f0438846",
   "metadata": {},
   "outputs": [],
   "source": [
    "# Prepare the metrics\n",
    "train_acc_metric = keras.metrics.BinaryAccuracy()\n",
    "val_acc_metric = keras.metrics.BinaryAccuracy()\n",
    "\n",
    "train_loss_mean = tf.keras.metrics.Mean()\n",
    "val_loss_mean = tf.keras.metrics.Mean()"
   ]
  },
  {
   "cell_type": "markdown",
   "id": "df41176b",
   "metadata": {
    "id": "df41176b"
   },
   "source": [
    "## 5.2 Establish Checkpoints"
   ]
  },
  {
   "cell_type": "code",
   "execution_count": null,
   "id": "463356dd",
   "metadata": {
    "id": "463356dd"
   },
   "outputs": [],
   "source": [
    "CHECKPOINT_PATH = os.path.join('training_checkpoints')\n",
    "os.makedirs(CHECKPOINT_PATH)"
   ]
  },
  {
   "cell_type": "code",
   "execution_count": null,
   "id": "f5df39da",
   "metadata": {
    "id": "f5df39da"
   },
   "outputs": [],
   "source": [
    "checkpoint_dir = './training_checkpoints'\n",
    "checkpoint_prefix = os.path.join(checkpoint_dir, 'ckpt')\n",
    "checkpoint = tf.train.Checkpoint(opt=opt, siamese_model=siamese_model)"
   ]
  },
  {
   "cell_type": "markdown",
   "id": "5cdddf21",
   "metadata": {
    "id": "5cdddf21"
   },
   "source": [
    "## 5.3 Build Train Step Function"
   ]
  },
  {
   "cell_type": "code",
   "execution_count": null,
   "id": "739d855c",
   "metadata": {
    "id": "739d855c"
   },
   "outputs": [],
   "source": [
    "@tf.function\n",
    "def train_step(batch):\n",
    "    \n",
    "    # Record all of our operations \n",
    "    with tf.GradientTape() as tape:     \n",
    "        \n",
    "        # Forward pass\n",
    "        anchor = vgg_face_embedding(batch[0], training=True)\n",
    "        positive = vgg_face_embedding(batch[1], training=True)\n",
    "        negative = vgg_face_embedding(batch[2], training=True)\n",
    "        # Calculate loss\n",
    "        loss = triplet_loss(anchor,positive,negative)\n",
    "        \n",
    "    # Calculate gradients\n",
    "    grad = tape.gradient(loss, vgg_face_embedding.trainable_variables)\n",
    "    \n",
    "    # Calculate updated weights and apply to siamese model\n",
    "    opt.apply_gradients(zip(grad, vgg_face_embedding.trainable_variables))\n",
    "    \n",
    "    #Update loss metric\n",
    "    train_loss_mean.update_state(loss)\n",
    "    \n",
    "    # Return loss\n",
    "    return loss"
   ]
  },
  {
   "cell_type": "code",
   "execution_count": null,
   "id": "280c671b",
   "metadata": {},
   "outputs": [],
   "source": [
    "@tf.function\n",
    "def test_step(batch):\n",
    "    \n",
    "   # Forward pass\n",
    "    anchor = vgg_face_embedding(batch[0], training=False)\n",
    "    positive = vgg_face_embedding(batch[1], training=False)\n",
    "    negative = vgg_face_embedding(batch[2], training=False)\n",
    "    # Calculate loss\n",
    "    loss = triplet_loss(anchor,positive,negative)\n",
    "\n",
    "    val_loss_mean.update_state(loss)\n",
    "    \n",
    "    return loss"
   ]
  },
  {
   "cell_type": "markdown",
   "id": "3ff7280e",
   "metadata": {
    "id": "3ff7280e"
   },
   "source": [
    "## 5.4 Build Training Loop"
   ]
  },
  {
   "cell_type": "code",
   "execution_count": null,
   "id": "63006370",
   "metadata": {
    "id": "63006370"
   },
   "outputs": [],
   "source": [
    "def train(data, v_data, EPOCHS):\n",
    "    epoch_l = []\n",
    "    t_loss = []\n",
    "    t_acc = []\n",
    "    v_loss = []\n",
    "    v_acc = []\n",
    "    # Loop through epochs\n",
    "    for epoch in range(1, EPOCHS+1):\n",
    "        epoch_l.append(epoch)\n",
    "        \n",
    "        print('\\n Epoch {}/{}'.format(epoch, EPOCHS))\n",
    "        progbar = tf.keras.utils.Progbar(len(data))\n",
    "        \n",
    "        # Loop through each batch\n",
    "        for idx, batch in enumerate(data):\n",
    "            # Run train step here\n",
    "            loss_value = train_step(batch)\n",
    "            progbar.update(idx+1)\n",
    "        \n",
    "        # Display metrics at the end of each epoch.\n",
    "        train_loss = train_loss_mean.result()\n",
    "        train_acc = train_acc_metric.result()\n",
    "        t_loss.append(train_loss)\n",
    "        t_acc.append(train_acc)\n",
    "        print(\"Training Loss: %.4f Training accuracy: %.4f\" % (float(train_loss),float(train_acc),))\n",
    "\n",
    "        # Reset training metrics at the end of each epoch\n",
    "        train_loss_mean.reset_states()\n",
    "        train_acc_metric.reset_states()\n",
    "        \n",
    "        # Run a validation loop at the end of each epoch.\n",
    "        for batch in v_data:\n",
    "            test_step(batch)\n",
    "\n",
    "        val_acc = val_acc_metric.result()\n",
    "        val_loss = val_loss_mean.result()\n",
    "        \n",
    "        v_loss.append(val_loss)\n",
    "        v_acc.append(val_acc)\n",
    "        \n",
    "        print(\"Validation Loss: %.4f Validation acc: %.4f\" % (float(val_loss),float(val_acc),))\n",
    "        \n",
    "        val_loss_mean.reset_states()\n",
    "        val_acc_metric.reset_states()\n",
    "        \n",
    "        \n",
    "        # Save checkpoints\n",
    "        '''\n",
    "        if epoch % 10 == 0: \n",
    "            checkpoint.save(file_prefix=checkpoint_prefix)\n",
    "        '''\n",
    "    \n",
    "    return epoch_l, t_loss, t_acc, v_loss, v_acc"
   ]
  },
  {
   "cell_type": "markdown",
   "id": "618f673e",
   "metadata": {
    "id": "618f673e"
   },
   "source": [
    "## 5.5 Train the model"
   ]
  },
  {
   "cell_type": "code",
   "execution_count": null,
   "id": "5f0e49d3",
   "metadata": {
    "id": "5f0e49d3"
   },
   "outputs": [],
   "source": [
    "EPOCHS = 50"
   ]
  },
  {
   "cell_type": "code",
   "execution_count": null,
   "id": "3b7f1a11",
   "metadata": {
    "colab": {
     "base_uri": "https://localhost:8080/"
    },
    "id": "3b7f1a11",
    "outputId": "3445b69c-261f-41c2-ff99-854692e49182",
    "scrolled": true
   },
   "outputs": [],
   "source": [
    "epoch_l, t_loss, t_acc, v_loss, v_acc = train(train_data,test_data, EPOCHS)"
   ]
  },
  {
   "cell_type": "code",
   "execution_count": null,
   "id": "0845d61d",
   "metadata": {},
   "outputs": [],
   "source": [
    "t_loss1 = []\n",
    "t_acc1 = []\n",
    "v_loss1 = []\n",
    "v_acc1 = []\n",
    "\n",
    "for i in range(0,len(epoch_l)):\n",
    "    t_loss1.append(t_loss[i].numpy())\n",
    "    t_acc1.append(t_acc[i].numpy())\n",
    "    v_loss1.append(v_loss[i].numpy())\n",
    "    v_acc1.append(v_acc[i].numpy())"
   ]
  },
  {
   "cell_type": "code",
   "execution_count": null,
   "id": "d414fcb4",
   "metadata": {},
   "outputs": [],
   "source": [
    "#Saving all the training and validation loss and accuracies from training are saved into a csv\n",
    "import csv\n",
    "from itertools import zip_longest\n",
    "\n",
    "d = [epoch_l, t_loss1, v_loss1, t_acc1, v_acc1]\n",
    "export_data = zip_longest(*d, fillvalue = '')\n",
    "with open('log_vgg_triplet_training_6_6.csv', 'w', encoding=\"ISO-8859-1\", newline='') as myfile:\n",
    "      wr = csv.writer(myfile)\n",
    "      wr.writerow((\"epoch\", \"t_loss\", \"v_loss\", \"t_acc\", \"v_acc\"))\n",
    "      wr.writerows(export_data)\n",
    "myfile.close()"
   ]
  },
  {
   "cell_type": "code",
   "execution_count": null,
   "id": "f461b9df",
   "metadata": {},
   "outputs": [
    {
     "data": {
      "image/png": "[encoded data removed]",
      "text/plain": [
       "<Figure size 432x288 with 1 Axes>"
      ]
     },
     "metadata": {
      "needs_background": "light"
     },
     "output_type": "display_data"
    }
   ],
   "source": [
    "#Open the graph\n",
    "import matplotlib.pyplot as plt\n",
    "import pandas as pd\n",
    "\n",
    "df = pd.read_csv('log_vgg_triplet_training_6_6.csv')\n",
    "df[['epoch', 't_loss', 'v_loss']].plot(\n",
    "    x='epoch',\n",
    "    xlabel='x',\n",
    "    ylabel='y',\n",
    "    title='Loss VS Validation_Loss'\n",
    ")\n",
    "\n",
    "plt.show()\n",
    "\n",
    "#https://machinelearningmastery.com/learning-curves-for-diagnosing-machine-learning-model-performance/"
   ]
  },
  {
   "cell_type": "markdown",
   "id": "9836eb3d",
   "metadata": {},
   "source": [
    "# 5.6 Training another way"
   ]
  },
  {
   "cell_type": "code",
   "execution_count": null,
   "id": "e07a6746",
   "metadata": {},
   "outputs": [],
   "source": [
    "from tensorflow.keras import metrics"
   ]
  },
  {
   "cell_type": "code",
   "execution_count": null,
   "id": "58e478fc",
   "metadata": {},
   "outputs": [],
   "source": [
    "target_shape = (224,224)\n",
    "anchor_input = Input(name=\"anchor\", shape=target_shape + (3,))\n",
    "positive_input = Input(name=\"positive\", shape=target_shape + (3,))\n",
    "negative_input = Input(name=\"negative\", shape=target_shape + (3,))\n",
    "\n",
    "'''\n",
    "#L2 normalize embeddings\n",
    "distances = DistanceLayer()(\n",
    "    tf.math.l2_normalize(vgg_face_embedding(anchor_input), axis=-1),\n",
    "    tf.math.l2_normalize(vgg_face_embedding(positive_input), axis=-1),\n",
    "    tf.math.l2_normalize(vgg_face_embedding(negative_input), axis=-1)\n",
    ")\n",
    "\n",
    "\n",
    "\n",
    "'''\n",
    "distances = DistanceLayer()(\n",
    "    vgg_face_embedding(anchor_input),\n",
    "    vgg_face_embedding(positive_input),\n",
    "    vgg_face_embedding(negative_input),\n",
    ")\n",
    "\n",
    "\n",
    "\n",
    "siamese_network = Model(\n",
    "    inputs=[anchor_input, positive_input, negative_input], outputs=distances\n",
    ")\n"
   ]
  },
  {
   "cell_type": "code",
   "execution_count": null,
   "id": "ebda2ef3",
   "metadata": {},
   "outputs": [
    {
     "name": "stdout",
     "output_type": "stream",
     "text": [
      "Model: \"model_5\"\n",
      "__________________________________________________________________________________________________\n",
      "Layer (type)                    Output Shape         Param #     Connected to                     \n",
      "==================================================================================================\n",
      "anchor (InputLayer)             [(None, 224, 224, 3) 0                                            \n",
      "__________________________________________________________________________________________________\n",
      "positive (InputLayer)           [(None, 224, 224, 3) 0                                            \n",
      "__________________________________________________________________________________________________\n",
      "negative (InputLayer)           [(None, 224, 224, 3) 0                                            \n",
      "__________________________________________________________________________________________________\n",
      "model_4 (Functional)            (None, 2622)         145002878   anchor[0][0]                     \n",
      "                                                                 positive[0][0]                   \n",
      "                                                                 negative[0][0]                   \n",
      "__________________________________________________________________________________________________\n",
      "distance_layer_2 (DistanceLayer ((None,), (None,))   0           model_4[0][0]                    \n",
      "                                                                 model_4[1][0]                    \n",
      "                                                                 model_4[2][0]                    \n",
      "==================================================================================================\n",
      "Total params: 145,002,878\n",
      "Trainable params: 130,288,190\n",
      "Non-trainable params: 14,714,688\n",
      "__________________________________________________________________________________________________\n"
     ]
    }
   ],
   "source": [
    "siamese_network.summary()"
   ]
  },
  {
   "cell_type": "code",
   "execution_count": null,
   "id": "e76f31f5",
   "metadata": {},
   "outputs": [],
   "source": [
    "class SiameseModel(Model):\n",
    "    \"\"\"The Siamese Network model with a custom training and testing loops.\n",
    "    Computes the triplet loss using the three embeddings produced by the\n",
    "    Siamese Network.\n",
    "    The triplet loss is defined as:\n",
    "       L(A, P, N) = max(‖f(A) - f(P)‖² - ‖f(A) - f(N)‖² + margin, 0)\n",
    "    \"\"\"\n",
    "\n",
    "    def __init__(self, siamese_network, margin=0.2):\n",
    "        super(SiameseModel, self).__init__()\n",
    "        self.siamese_network = siamese_network\n",
    "        self.margin = margin\n",
    "        self.loss_tracker = metrics.Mean(name=\"loss\")\n",
    "\n",
    "    def call(self, inputs):\n",
    "        return self.siamese_network(inputs)\n",
    "\n",
    "    def train_step(self, data):\n",
    "        # GradientTape is a context manager that records every operation that\n",
    "        # you do inside. We are using it here to compute the loss so we can get\n",
    "        # the gradients and apply them using the optimizer specified in\n",
    "        # `compile()`.\n",
    "        with tf.GradientTape() as tape:\n",
    "            loss = self._compute_loss(data)\n",
    "\n",
    "        # Storing the gradients of the loss function with respect to the\n",
    "        # weights/parameters.\n",
    "        gradients = tape.gradient(loss, self.siamese_network.trainable_weights)\n",
    "\n",
    "        # Applying the gradients on the model using the specified optimizer\n",
    "        self.optimizer.apply_gradients(\n",
    "            zip(gradients, self.siamese_network.trainable_weights)\n",
    "        )\n",
    "\n",
    "        # Let's update and return the training loss metric.\n",
    "        self.loss_tracker.update_state(loss)\n",
    "        return {\"loss\": self.loss_tracker.result()}\n",
    "\n",
    "    def test_step(self, data):\n",
    "        loss = self._compute_loss(data)\n",
    "\n",
    "        # Let's update and return the loss metric.\n",
    "        self.loss_tracker.update_state(loss)\n",
    "        return {\"loss\": self.loss_tracker.result()}\n",
    "\n",
    "    def _compute_loss(self, data):\n",
    "        # The output of the network is a tuple containing the distances\n",
    "        # between the anchor and the positive example, and the anchor and\n",
    "        # the negative example.\n",
    "        ap_distance, an_distance = self.siamese_network(data)\n",
    "\n",
    "        # Computing the Triplet Loss by subtracting both distances and\n",
    "        # making sure we don't get a negative value.\n",
    "        loss = ap_distance - an_distance\n",
    "        loss = tf.maximum(loss + self.margin, 0.0)\n",
    "        return loss\n",
    "\n",
    "    @property\n",
    "    def metrics(self):\n",
    "        # We need to list our metrics here so the `reset_states()` can be\n",
    "        # called automatically.\n",
    "        return [self.loss_tracker]\n"
   ]
  },
  {
   "cell_type": "code",
   "execution_count": null,
   "id": "231e6f0b",
   "metadata": {
    "scrolled": true
   },
   "outputs": [],
   "source": [
    "training_model = SiameseModel(siamese_network)\n",
    "training_model.compile(optimizer=opt)"
   ]
  },
  {
   "cell_type": "code",
   "execution_count": null,
   "id": "42db1040",
   "metadata": {},
   "outputs": [],
   "source": [
    "csv_logger = CSVLogger('log_train_2622D_Softmax_3_6.csv', append=True, separator=',')"
   ]
  },
  {
   "cell_type": "code",
   "execution_count": null,
   "id": "f35b8393",
   "metadata": {
    "scrolled": false
   },
   "outputs": [],
   "source": [
    "History = training_model.fit(train_data,batch_size=32, epochs=100, validation_data=test_data, callbacks=[csv_logger]) \n",
    "train_loss = History.history['loss']\n",
    "val_loss   = History.history['val_loss']"
   ]
  },
  {
   "cell_type": "markdown",
   "id": "6fc0de50",
   "metadata": {
    "id": "6fc0de50"
   },
   "source": [
    "# 6. Save Model"
   ]
  },
  {
   "cell_type": "code",
   "execution_count": null,
   "id": "08857e92",
   "metadata": {
    "scrolled": false
   },
   "outputs": [],
   "source": [
    "siamese_network.summary()"
   ]
  },
  {
   "cell_type": "code",
   "execution_count": null,
   "id": "68107525",
   "metadata": {},
   "outputs": [],
   "source": [
    "#Removing just the CNN layer, the name \"model_5\" might be wrong, double check using the summary() of the siamese model\n",
    "new_embedding = siamese_network.get_layer('model_5')"
   ]
  },
  {
   "cell_type": "code",
   "execution_count": null,
   "id": "152e839c",
   "metadata": {
    "scrolled": true
   },
   "outputs": [],
   "source": [
    "new_embedding.summary()"
   ]
  },
  {
   "cell_type": "code",
   "execution_count": null,
   "id": "c8cd9029",
   "metadata": {
    "id": "c8cd9029",
    "scrolled": false
   },
   "outputs": [],
   "source": [
    "# Save weights\n",
    "new_embedding.save('snn_gpu_trained_model_128D_preprocessed_1_6.h5')"
   ]
  },
  {
   "cell_type": "code",
   "execution_count": null,
   "id": "a8176445",
   "metadata": {
    "id": "a8176445",
    "outputId": "ee08c4f3-d8ca-4fa9-ffab-da31602d099b",
    "scrolled": true
   },
   "outputs": [],
   "source": [
    "L1Dist"
   ]
  },
  {
   "cell_type": "code",
   "execution_count": null,
   "id": "070f029c",
   "metadata": {
    "id": "070f029c",
    "outputId": "83b9b7e4-50de-47a4-9da9-2b239d582a6c",
    "scrolled": true
   },
   "outputs": [],
   "source": [
    "# Reload model \n",
    "siamese_model = tf.keras.models.load_model('gpu_trained_model.h5', \n",
    "                                   custom_objects={'L1Dist':L1Dist})"
   ]
  },
  {
   "cell_type": "code",
   "execution_count": null,
   "id": "33292d38",
   "metadata": {
    "id": "33292d38",
    "outputId": "9bdf3944-ec36-46e3-eba0-ce066345391e"
   },
   "outputs": [],
   "source": [
    "# View model summary\n",
    "siamese_model.summary()"
   ]
  },
  {
   "cell_type": "markdown",
   "id": "9ed4169d",
   "metadata": {
    "id": "9ed4169d"
   },
   "source": [
    "# 7. Sources"
   ]
  },
  {
   "cell_type": "code",
   "execution_count": null,
   "id": "c97e69d3",
   "metadata": {
    "id": "c97e69d3",
    "outputId": "9e45eaeb-504e-41a3-f7a6-d8705efd9222",
    "scrolled": true
   },
   "outputs": [],
   "source": [
    "\"\"\"\n",
    "Sources:\n",
    "https://morioh.com/p/a07857cbc76d\n",
    "https://sefiks.com/2018/08/06/deep-face-recognition-with-keras/\n",
    "https://keras.io/examples/vision/siamese_contrastive/ #For euclidean distance\n",
    "https://keras.io/examples/vision/siamese_network/#inspecting-what-the-network-has-learned\n",
    "https://github.com/keras-team/keras-io/blob/master/examples/vision/siamese_network.py\n",
    "\"\"\""
   ]
  }
 ],
 "metadata": {
  "accelerator": "GPU",
  "colab": {
   "collapsed_sections": [
    "e051d0ef",
    "f86f7a9e",
    "bf4a2dee",
    "ec7f4b10",
    "7f8f1e1f",
    "0065256d",
    "df41176b",
    "5cdddf21",
    "3ff7280e",
    "618f673e",
    "6f467a2b",
    "64e995ac",
    "37e3f295",
    "48596394",
    "d04e79b1",
    "c21a698a",
    "0a74645d"
   ],
   "name": "vgg16_snn_v1.ipynb",
   "provenance": []
  },
  "kernelspec": {
   "display_name": "Python 3",
   "language": "python",
   "name": "python3"
  },
  "language_info": {
   "codemirror_mode": {
    "name": "ipython",
    "version": 3
   },
   "file_extension": ".py",
   "mimetype": "text/x-python",
   "name": "python",
   "nbconvert_exporter": "python",
   "pygments_lexer": "ipython3",
   "version": "3.6.9"
  }
 },
 "nbformat": 4,
 "nbformat_minor": 5
}
